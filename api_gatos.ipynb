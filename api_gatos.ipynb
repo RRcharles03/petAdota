{
 "cells": [
  {
   "cell_type": "code",
   "execution_count": null,
   "metadata": {
    "vscode": {
     "languageId": "plaintext"
    }
   },
   "outputs": [],
   "source": [
    "# Coletar e visualizar imagens de gatos\n",
    "# codigo correto\n",
    "\n",
    "from IPython.display import Image, display\n",
    "\n",
    "def obter_gato(limite):\n",
    "    url = f\"https://api.thecatapi.com/v1/images/search?limit={limite}\"\n",
    "    resp = requests.get(url)\n",
    "    if resp.status_code == 200:\n",
    "        dados = resp.json()\n",
    "        print(f\"Resposta da API: {dados}\")\n",
    "        return [imagem[\"url\"] for imagem in dados[:limite]]\n",
    "    else:\n",
    "        print(\"Erro ao acessar a API.\")\n",
    "        return []\n",
    "\n",
    "imagens_gato = obter_gato(5)\n",
    "\n",
    "for img_gato in imagens_gato:\n",
    "    display(Image(url=img_gato))"
   ]
  },
  {
   "cell_type": "code",
   "execution_count": null,
   "metadata": {
    "vscode": {
     "languageId": "plaintext"
    }
   },
   "outputs": [],
   "source": []
  }
 ],
 "metadata": {
  "language_info": {
   "name": "python"
  }
 },
 "nbformat": 4,
 "nbformat_minor": 2
}
