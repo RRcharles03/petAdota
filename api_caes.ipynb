{
 "cells": [
  {
   "cell_type": "code",
   "execution_count": null,
   "metadata": {
    "vscode": {
     "languageId": "plaintext"
    }
   },
   "outputs": [],
   "source": [
    "# Coletar imagens de cães e salvar em CSV\n",
    "\n",
    "import requests\n",
    "import pandas as pd\n",
    "\n",
    "# Endpoint da Dog API\n",
    "url = \"https://dog.ceo/api/breeds/image/random\"\n",
    "\n",
    "# Coleta de 10 imagens\n",
    "dog_images = [requests.get(url).json()[\"message\"] for _ in range(10)]\n",
    "\n",
    "# Criação do DataFrame\n",
    "df_dogs = pd.DataFrame(dog_images, columns=[\"dog_image_url\"])\n",
    "\n",
    "# Salvando em CSV\n",
    "df_dogs.to_csv(\"dog_images.csv\", index=False)\n",
    "print(\"Imagens dos cachorros salvas em dog_images.csv.\")"
   ]
  }
 ],
 "metadata": {
  "language_info": {
   "name": "python"
  }
 },
 "nbformat": 4,
 "nbformat_minor": 2
}
